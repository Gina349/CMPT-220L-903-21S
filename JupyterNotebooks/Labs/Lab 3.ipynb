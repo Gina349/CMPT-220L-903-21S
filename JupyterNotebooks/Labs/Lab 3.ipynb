{
 "cells": [
  {
   "cell_type": "markdown",
   "metadata": {},
   "source": [
    "# Lab Three\n",
    "---\n",
    "\n",
    "For this lab we're going to be making and using a bunch of functions. \n",
    "\n",
    "Our Goals are:\n",
    "- Switch Case\n",
    "- Looping\n",
    "- Making our own functions\n",
    "- Combining functions\n",
    "- Structuring solutions"
   ]
  },
  {
   "cell_type": "code",
   "execution_count": 17,
   "metadata": {},
   "outputs": [
    {
     "name": "stdout",
     "output_type": "stream",
     "text": [
      "So you are dead to me.\n"
     ]
    }
   ],
   "source": [
    "// Give me an example of you using switch case.\r\n",
    "\r\n",
    "String Fruits = \"Dragon Fruit\";\r\n",
    "\r\n",
    "switch(Fruits){\r\n",
    "    case \"Apples\":\r\n",
    "        System.out.println(\"Apples are delicious, they are one of my favorites.\");\r\n",
    "        break;\r\n",
    "    case \"Grapes\":\r\n",
    "        System.out.println(\"Grapes are the best hands down.\");\r\n",
    "        break;\r\n",
    "    case \"Banana\":\r\n",
    "        System.out.println(\"Banana are not the best but they are still good.\");\r\n",
    "        break;\r\n",
    "    default:\r\n",
    "        System.out.println(\"So you are dead to me.\");\r\n",
    "}"
   ]
  },
  {
   "cell_type": "code",
   "execution_count": 20,
   "metadata": {},
   "outputs": [
    {
     "name": "stdout",
     "output_type": "stream",
     "text": [
      "This system is printing: 0\n",
      "This system is printing: 1\n",
      "This system is printing: 2\n",
      "This system is printing: 3\n",
      "This system is printing: 4\n"
     ]
    }
   ],
   "source": [
    "// Give me an example of you using a for loop\r\n",
    "\r\n",
    "for (int x = 0; x < 5; x++){\r\n",
    "    System.out.println(\"This system is printing: \" + x);\r\n",
    "}"
   ]
  },
  {
   "cell_type": "code",
   "execution_count": 21,
   "metadata": {},
   "outputs": [
    {
     "name": "stdout",
     "output_type": "stream",
     "text": [
      "Triangle\n",
      "Rectangle\n",
      "Square\n",
      "Circle\n",
      "Rhombus\n",
      "Hexagon\n",
      "Pentagon\n",
      "Parallelogram\n",
      "Trapezoid\n",
      "Quadrilateral\n",
      "Octagon\n",
      "Cylinder\n",
      "Cude\n",
      "Heptagon\n",
      "Kite\n",
      "Nonagon\n",
      "Oval\n",
      "Decagon\n",
      "Polygon\n",
      "Dodecagon\n",
      "Right Triangle\n",
      "Regular Polygon\n",
      "Octahedron\n",
      "Cuboid\n"
     ]
    }
   ],
   "source": [
    "// Give me an example of you using a for each loop\r\n",
    "\r\n",
    "String[] shapes = {\"Triangle\", \"Rectangle\", \"Square\", \"Circle\", \"Rhombus\", \"Hexagon\", \"Pentagon\", \"Parallelogram\", \"Trapezoid\", \"Quadrilateral\", \"Octagon\", \"Cylinder\", \"Cude\", \"Heptagon\", \"Kite\", \"Nonagon\", \"Oval\", \"Decagon\", \"Polygon\", \"Dodecagon\", \"Right Triangle\", \"Regular Polygon\", \"Octahedron\", \"Cuboid\"};\r\n",
    "\r\n",
    "for (String Types: shapes){\r\n",
    "    System.out.println(Types);\r\n",
    "}"
   ]
  },
  {
   "cell_type": "code",
   "execution_count": 24,
   "metadata": {},
   "outputs": [
    {
     "name": "stdout",
     "output_type": "stream",
     "text": [
      "1\n",
      "2\n",
      "3\n",
      "4\n"
     ]
    }
   ],
   "source": [
    "// Give me an example of you using a while loop\r\n",
    "\r\n",
    "int h = 1;\r\n",
    "while (h<5){\r\n",
    "    System.out.println(h);\r\n",
    "    h++;\r\n",
    "}"
   ]
  },
  {
   "cell_type": "code",
   "execution_count": 12,
   "metadata": {},
   "outputs": [
    {
     "name": "stdout",
     "output_type": "stream",
     "text": [
      "8.0\n"
     ]
    }
   ],
   "source": [
    "// I want you to write a function that will take in a number and raise it to the power given. \r\n",
    "\r\n",
    "// For example if given the numbers 2 and 3. The math that the function should do is 2^3 and should print out or return 8. Print the output.\r\n",
    "\r\n",
    "import java.lang.Math;\r\n",
    "\r\n",
    "int base_of_exponent = 2;\r\n",
    "int exponent = 3;\r\n",
    "\r\n",
    "System.out.println (Math.pow(base_of_exponent, exponent));"
   ]
  },
  {
   "cell_type": "code",
   "execution_count": 8,
   "metadata": {},
   "outputs": [
    {
     "name": "stdout",
     "output_type": "stream",
     "text": [
      "There are 2 3's in the given array.\n"
     ]
    }
   ],
   "source": [
    "// I want you to write a function that will take in a list and see how many times a given number is in the list. \r\n",
    "\r\n",
    "// For example if the array given is [2,3,5,2,3,6,7,8,2] and the number given is 2 the function should print out or return 3. Print the output.\r\n",
    "\r\n",
    "void number_counter(int[] array, int target){\r\n",
    "    if (array.length == 0){\r\n",
    "        System.out.println(\"Array is empty, please provide an array.\");\r\n",
    "    }\r\n",
    "\r\n",
    "    int counter = 0;\r\n",
    "    for (int number: array){\r\n",
    "        if (target == number){\r\n",
    "            counter++;\r\n",
    "        }\r\n",
    "    }\r\n",
    "    System.out.println(\"There are \" + counter + \" \" + target + \"'s in the given array.\");\r\n",
    "}   \r\n",
    "\r\n",
    "int[] array = {3,3,2,2,4,4,4,5,5,5,5};\r\n",
    "number_counter(array, 3);\r\n"
   ]
  },
  {
   "cell_type": "code",
   "execution_count": 14,
   "metadata": {},
   "outputs": [
    {
     "name": "stdout",
     "output_type": "stream",
     "text": [
      "c comes out to be 2.23606797749979 and c squared was 5.0.\n"
     ]
    }
   ],
   "source": [
    "// Give me a function that gives the answer to the pythagorean theorem. \r\n",
    "// I'd like you to reuse the exponent function from above as well as the functions below to make your function.\r\n",
    "\r\n",
    "// If you don't remember the pythagorean theorem the formula is (a^2 + b^2 = c^2). Given a and b as parameters i'd like you to return c. \r\n",
    "// If this doesn't make sense look up `Pythagorean Theorem Formula` on google.\r\n",
    "\r\n",
    "import java.lang.Math;\r\n",
    "\r\n",
    "int a = 1;\r\n",
    "int b = 2;\r\n",
    "int exponent = 2;\r\n",
    "\r\n",
    "double addition(double a, double b) {\r\n",
    "    double answer = a + b;\r\n",
    "    return answer;\r\n",
    "}\r\n",
    "\r\n",
    "double division(int a, int b) {\r\n",
    "    int answer = a / b;\r\n",
    "    return answer;\r\n",
    "}\r\n",
    "\r\n",
    "void pythagorean_theorem(int a, int b) {\r\n",
    "    double a_squared = Math.pow(a, exponent);\r\n",
    "    double b_squared = Math.pow(b, exponent);\r\n",
    "    double c_squared = addition(a_squared, b_squared);\r\n",
    "    double c = Math.sqrt(c_squared);\r\n",
    "\r\n",
    "    System.out.println(\"c comes out to be \" + c + \" and c squared was \" + c_squared + \".\");\r\n",
    "}\r\n",
    "\r\n",
    "pythagorean_theorem(a, b);\r\n"
   ]
  }
 ],
 "metadata": {
  "kernelspec": {
   "display_name": "Java",
   "language": "java",
   "name": "java"
  },
  "language_info": {
   "codemirror_mode": "java",
   "file_extension": ".jshell",
   "mimetype": "text/x-java-source",
   "name": "Java",
   "pygments_lexer": "java",
   "version": "15.0.2+7-27"
  },
  "orig_nbformat": 2
 },
 "nbformat": 4,
 "nbformat_minor": 2
}