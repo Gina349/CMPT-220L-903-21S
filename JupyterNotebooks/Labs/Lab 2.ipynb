{
 "cells": [
  {
   "cell_type": "markdown",
   "metadata": {},
   "source": [
    "# Lab Two\n",
    "---\n",
    "\n",
    "Ok for this lab we're going to reiterate a lot of the things that we went over in class.\n",
    "\n",
    "Our Goals are:\n",
    "- Conditionals\n",
    "    - If\n",
    "    - Else\n",
    "    - Else If"
   ]
  },
  {
   "cell_type": "code",
   "execution_count": 1,
   "metadata": {},
   "outputs": [
    {
     "name": "stdout",
     "output_type": "stream",
     "text": [
      "Help Me\n"
     ]
    }
   ],
   "source": [
    "// Make an if statement\r\n",
    "\r\n",
    "if (true) {\r\n",
    "    System.out.println(\"Help Me\");\r\n",
    "}"
   ]
  },
  {
   "cell_type": "code",
   "execution_count": 2,
   "metadata": {},
   "outputs": [
    {
     "name": "stdout",
     "output_type": "stream",
     "text": [
      "I do not want pizza\n"
     ]
    }
   ],
   "source": [
    "// Make an if, else statement where the else statement triggers\r\n",
    "\r\n",
    "if (!true) {\r\n",
    "    System.out.println(\"I want pizza\");\r\n",
    "} else {\r\n",
    "    System.out.println(\"I do not want pizza\");\r\n",
    "}"
   ]
  },
  {
   "cell_type": "code",
   "execution_count": 3,
   "metadata": {},
   "outputs": [
    {
     "name": "stdout",
     "output_type": "stream",
     "text": [
      "It is a tiger\n"
     ]
    }
   ],
   "source": [
    "// Make an if, else if, else statement where the else if statement triggers\r\n",
    "\r\n",
    "if (!true){\r\n",
    "    System.out.println(\"Help\");\r\n",
    "} else if (true){\r\n",
    "    System.out.println(\"It is a tiger\");\r\n",
    "} else {\r\n",
    "    System.out.println(\"No, it is a cat\");\r\n",
    "}"
   ]
  },
  {
   "cell_type": "code",
   "execution_count": 4,
   "metadata": {},
   "outputs": [
    {
     "name": "stdout",
     "output_type": "stream",
     "text": [
      "6\n"
     ]
    }
   ],
   "source": [
    "// Make 2 variables and use them in an if else conditional\r\n",
    "\r\n",
    "int g = 5;\r\n",
    "int h = 6;\r\n",
    "\r\n",
    "if (!true){\r\n",
    "    System.out.println(g + 10);\r\n",
    "} else {\r\n",
    "    System.out.println(h);\r\n",
    "}"
   ]
  },
  {
   "cell_type": "code",
   "execution_count": 5,
   "metadata": {},
   "outputs": [
    {
     "name": "stdout",
     "output_type": "stream",
     "text": [
      "I like my pasta with salt and pepper\n"
     ]
    }
   ],
   "source": [
    "// Make an if statement using 2 variables and an AND(&&) statement\r\n",
    "\r\n",
    "boolean salt = true;\r\n",
    "boolean pepper = false; \r\n",
    "\r\n",
    "if (salt && !pepper){\r\n",
    "    System.out.println(\"I like my pasta with salt and pepper\");\r\n",
    "}\r\n"
   ]
  },
  {
   "cell_type": "code",
   "execution_count": 6,
   "metadata": {},
   "outputs": [
    {
     "name": "stdout",
     "output_type": "stream",
     "text": [
      "I like eating apples and grapes\n"
     ]
    }
   ],
   "source": [
    "// Make an if statement using 2 variables and an OR(||) statement\r\n",
    "\r\n",
    "boolean apples = true;\r\n",
    "boolean grapes = false;\r\n",
    "\r\n",
    "if (apples || grapes){\r\n",
    "    System.out.println(\"I like eating apples and grapes\");\r\n",
    "}"
   ]
  }
 ],
 "metadata": {
  "kernelspec": {
   "display_name": "Java",
   "name": "java"
  },
  "language_info": {
   "name": "java"
  },
  "orig_nbformat": 2
 },
 "nbformat": 4,
 "nbformat_minor": 2
}