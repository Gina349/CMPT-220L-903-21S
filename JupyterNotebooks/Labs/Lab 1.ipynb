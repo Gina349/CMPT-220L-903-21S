{
 "cells": [
  {
   "cell_type": "markdown",
   "metadata": {},
   "source": [
    "# Lab One\n",
    "---\n",
    "\n",
    "Ok for this lab we're going to reiterate a lot of the things that we went over in class.\n",
    "\n",
    "Our Goals are:\n",
    "- Binary Math\n",
    "- Defining Variables\n",
    "    - Primitive Types\n",
    "    - Reference Types\n",
    "- Using Math\n",
    "- Manipulating Variables"
   ]
  },
  {
   "cell_type": "markdown",
   "metadata": {},
   "source": [
    "For this section I just want you to type the answer. I know that you can just look this up but try and do the math. \r\n",
    "### What is 1000 in Decimal\r\n",
    "### 8\r\n",
    "### What is 1000 1001 in Decimal (This is a byte. It's just split for readability)\r\n",
    "### 137\r\n",
    "### What is 1010 1111 in Decimal (This is a byte. It's just split for readability)\r\n",
    "### 175\r\n",
    "### What is 0101 1010 in Decimal (This is a byte. It's just split for readability)\r\n",
    "### 90"
   ]
  },
  {
   "cell_type": "code",
   "execution_count": 2,
   "metadata": {},
   "outputs": [
    {
     "name": "stdout",
     "output_type": "stream",
     "text": [
      "true\n",
      "90\n",
      "32767\n",
      "2147483647\n",
      "16\n",
      "0.0\n",
      "3.7\n",
      "c\n"
     ]
    }
   ],
   "source": [
    "// Define 8 variables, one of each type listed: [boolean, byte, short, int, long, float, double, char]. Print all 8 of them.\r\n",
    "\r\n",
    "boolean is_cool = true;\r\n",
    "byte example = 90;\r\n",
    "short large_age = 32767;\r\n",
    "int age = 2147483647;\r\n",
    "long small_aga = 16;\r\n",
    "float gpa = 0.0f;\r\n",
    "double large_gpa = 3.7;\r\n",
    "char letter = 'c';\r\n",
    "\r\n",
    "System.out.println(is_cool);\r\n",
    "System.out.println(example);\r\n",
    "System.out.println(large_age);\r\n",
    "System.out.println(age);\r\n",
    "System.out.println(small_aga);\r\n",
    "System.out.println(gpa);\r\n",
    "System.out.println(large_gpa);\r\n",
    "System.out.println(letter);"
   ]
  },
  {
   "cell_type": "code",
   "execution_count": 4,
   "metadata": {},
   "outputs": [
    {
     "name": "stdout",
     "output_type": "stream",
     "text": [
      "8\n"
     ]
    }
   ],
   "source": [
    "// Make me a list of any type\r\n",
    "\r\n",
    "int[] value = {2, 4, 6, 8, 10};\r\n",
    "System.out.println(value[3]);"
   ]
  },
  {
   "cell_type": "code",
   "execution_count": 16,
   "metadata": {},
   "outputs": [
    {
     "name": "stdout",
     "output_type": "stream",
     "text": [
      "6\n",
      "2\n",
      "2\n",
      "8\n",
      "1\n"
     ]
    }
   ],
   "source": [
    "// With whatever variables you'd like demonstrate the following: [Addition, Subtraction, Division, Multiplication, Modulo]. Print all 5.\r\n",
    "\r\n",
    "int x = 4;\r\n",
    "int y = 2;\r\n",
    "int z = 5;\r\n",
    "\r\n",
    "System.out.println(x + y);\r\n",
    "System.out.println(x - y);\r\n",
    "System.out.println(x / y);\r\n",
    "System.out.println(x * y);\r\n",
    "System.out.println(z % y);"
   ]
  },
  {
   "cell_type": "code",
   "execution_count": 14,
   "metadata": {},
   "outputs": [
    {
     "name": "stdout",
     "output_type": "stream",
     "text": [
      "57\n"
     ]
    }
   ],
   "source": [
    "// Using 2 variables and addition print the number 57\r\n",
    "\r\n",
    "int a = 56;\r\n",
    "int b = 1;\r\n",
    "\r\n",
    "System.out.println(a + b);"
   ]
  },
  {
   "cell_type": "code",
   "execution_count": 18,
   "metadata": {},
   "outputs": [
    {
     "name": "stdout",
     "output_type": "stream",
     "text": [
      "10\n",
      "20\n"
     ]
    }
   ],
   "source": [
    "// Define a variable and print it out. Then alter the same variable and print it out. This can be through string concatenation or addition, etc.\r\n",
    "\r\n",
    "int g = 10;\r\n",
    "System.out.println(g);\r\n",
    "\r\n",
    "System.out.println(g + 10);"
   ]
  }
 ],
 "metadata": {
  "kernelspec": {
   "display_name": "Java",
   "language": "java",
   "name": "java"
  },
  "language_info": {
   "codemirror_mode": "java",
   "file_extension": ".jshell",
   "mimetype": "text/x-java-source",
   "name": "Java",
   "pygments_lexer": "java",
   "version": "15.0.2+7-27"
  },
  "orig_nbformat": 2
 },
 "nbformat": 4,
 "nbformat_minor": 2
}